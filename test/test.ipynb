{
 "cells": [
  {
   "cell_type": "code",
   "execution_count": 1,
   "metadata": {},
   "outputs": [],
   "source": [
    "import os\n",
    "import sys\n",
    "sys.path.append(os.path.dirname(os.path.abspath(os.path.dirname('__file__'))))\n",
    "from datetime import datetime\n",
    "\n",
    "from config import *\n",
    "from misc.utils import *\n",
    "from data.generator import DataGenerator"
   ]
  },
  {
   "cell_type": "code",
   "execution_count": 2,
   "metadata": {},
   "outputs": [],
   "source": [
    "import argparse\n",
    "class Parser:\n",
    "\n",
    "    def __init__(self):\n",
    "        self.parser = argparse.ArgumentParser()\n",
    "        self.set_arguments()\n",
    "\n",
    "    def set_arguments(self):\n",
    "        \n",
    "        self.parser.add_argument('--work-type', type=str, help='to set work types e.g. gen-data, train ')\n",
    "        self.parser.add_argument('--gpu', type=str, help='to set gpu ids to use')\n",
    "        self.parser.add_argument('--gpu-mem-multiplier', type=int, help='to set gpu memory size (GB) ')\n",
    "        \n",
    "        self.parser.add_argument('--model', type=str, help='to set model to experiment')\n",
    "        self.parser.add_argument('--task', type=str, help='to set tasks (e.g., non_iid_50, etc.)')\n",
    "        self.parser.add_argument('--seed', type=int, help='to set seed')\n",
    "        self.parser.add_argument('--num-rounds', type=int, help='to set number of rounds per task')\n",
    "        self.parser.add_argument('--num-epochs', type=int, help='to set number of epochs per round')\n",
    "        self.parser.add_argument('--batch-size', type=int, help='to set batch size')\n",
    "        self.parser.add_argument('--train-mode',type=str, help='select mode (full,mask,kb)')\n",
    "\n",
    "    def parse(self,arguments):\n",
    "        args, unparsed  = self.parser.parse_known_args(args=arguments)\n",
    "        if len(unparsed) != 0:\n",
    "            raise SystemExit('Unknown argument: {}'.format(unparsed))\n",
    "        return args"
   ]
  },
  {
   "cell_type": "code",
   "execution_count": 3,
   "metadata": {},
   "outputs": [],
   "source": [
    "args_str = '''--gpu 0,1,2 \\\n",
    "\t\t\t\t\t--work-type train \\\n",
    "\t\t\t\t\t--model fedweit \\\n",
    "\t\t\t\t\t--task non_iid_50 \\\n",
    "\t\t\t\t\t--gpu-mem-multiplier 9 \\\n",
    "\t\t\t\t\t--num-rounds 3 \\\n",
    "\t\t\t\t\t--num-epochs 1 \\\n",
    "\t\t\t\t\t--batch-size 100 \\\n",
    "\t\t\t\t\t--seed 777 \\\n",
    "\t\t\t\t\t--train-mode mask'''"
   ]
  },
  {
   "cell_type": "code",
   "execution_count": 4,
   "metadata": {},
   "outputs": [],
   "source": [
    "args = set_data_config(Parser().parse(args_str.split()))"
   ]
  },
  {
   "cell_type": "code",
   "execution_count": 5,
   "metadata": {},
   "outputs": [],
   "source": [
    "args = set_config(args)"
   ]
  },
  {
   "cell_type": "code",
   "execution_count": 6,
   "metadata": {},
   "outputs": [
    {
     "name": "stderr",
     "output_type": "stream",
     "text": [
      "2023-02-10 20:13:29.444327: I tensorflow/stream_executor/platform/default/dso_loader.cc:44] Successfully opened dynamic library libcuda.so.1\n",
      "2023-02-10 20:13:36.026021: I tensorflow/core/common_runtime/gpu/gpu_device.cc:1561] Found device 0 with properties: \n",
      "pciBusID: 0000:12:00.0 name: Tesla T4 computeCapability: 7.5\n",
      "coreClock: 1.59GHz coreCount: 40 deviceMemorySize: 14.61GiB deviceMemoryBandwidth: 298.08GiB/s\n",
      "2023-02-10 20:13:36.028910: I tensorflow/core/common_runtime/gpu/gpu_device.cc:1561] Found device 1 with properties: \n",
      "pciBusID: 0000:37:00.0 name: Tesla T4 computeCapability: 7.5\n",
      "coreClock: 1.59GHz coreCount: 40 deviceMemorySize: 14.61GiB deviceMemoryBandwidth: 298.08GiB/s\n",
      "2023-02-10 20:13:36.032346: I tensorflow/core/common_runtime/gpu/gpu_device.cc:1561] Found device 2 with properties: \n",
      "pciBusID: 0000:86:00.0 name: Tesla T4 computeCapability: 7.5\n",
      "coreClock: 1.59GHz coreCount: 40 deviceMemorySize: 14.61GiB deviceMemoryBandwidth: 298.08GiB/s\n",
      "2023-02-10 20:13:36.033675: I tensorflow/stream_executor/platform/default/dso_loader.cc:44] Successfully opened dynamic library libcudart.so.10.1\n",
      "2023-02-10 20:13:36.041663: I tensorflow/stream_executor/platform/default/dso_loader.cc:44] Successfully opened dynamic library libcublas.so.10\n",
      "2023-02-10 20:13:36.047073: I tensorflow/stream_executor/platform/default/dso_loader.cc:44] Successfully opened dynamic library libcufft.so.10\n",
      "2023-02-10 20:13:36.049199: I tensorflow/stream_executor/platform/default/dso_loader.cc:44] Successfully opened dynamic library libcurand.so.10\n",
      "2023-02-10 20:13:36.056200: I tensorflow/stream_executor/platform/default/dso_loader.cc:44] Successfully opened dynamic library libcusolver.so.10\n",
      "2023-02-10 20:13:36.060346: I tensorflow/stream_executor/platform/default/dso_loader.cc:44] Successfully opened dynamic library libcusparse.so.10\n",
      "2023-02-10 20:13:36.068787: I tensorflow/stream_executor/platform/default/dso_loader.cc:44] Successfully opened dynamic library libcudnn.so.7\n",
      "2023-02-10 20:13:36.085502: I tensorflow/core/common_runtime/gpu/gpu_device.cc:1703] Adding visible gpu devices: 0, 1, 2\n",
      "2023-02-10 20:13:36.111558: I tensorflow/core/platform/cpu_feature_guard.cc:143] Your CPU supports instructions that this TensorFlow binary was not compiled to use: AVX2 AVX512F FMA\n",
      "2023-02-10 20:13:36.144596: I tensorflow/core/platform/profile_utils/cpu_utils.cc:102] CPU Frequency: 2500000000 Hz\n",
      "2023-02-10 20:13:36.145951: I tensorflow/compiler/xla/service/service.cc:168] XLA service 0x7f1334000b20 initialized for platform Host (this does not guarantee that XLA will be used). Devices:\n",
      "2023-02-10 20:13:36.145976: I tensorflow/compiler/xla/service/service.cc:176]   StreamExecutor device (0): Host, Default Version\n",
      "2023-02-10 20:13:36.727878: I tensorflow/compiler/xla/service/service.cc:168] XLA service 0x7a467d0 initialized for platform CUDA (this does not guarantee that XLA will be used). Devices:\n",
      "2023-02-10 20:13:36.727917: I tensorflow/compiler/xla/service/service.cc:176]   StreamExecutor device (0): Tesla T4, Compute Capability 7.5\n",
      "2023-02-10 20:13:36.727922: I tensorflow/compiler/xla/service/service.cc:176]   StreamExecutor device (1): Tesla T4, Compute Capability 7.5\n",
      "2023-02-10 20:13:36.727926: I tensorflow/compiler/xla/service/service.cc:176]   StreamExecutor device (2): Tesla T4, Compute Capability 7.5\n",
      "2023-02-10 20:13:36.737269: I tensorflow/core/common_runtime/gpu/gpu_device.cc:1561] Found device 0 with properties: \n",
      "pciBusID: 0000:12:00.0 name: Tesla T4 computeCapability: 7.5\n",
      "coreClock: 1.59GHz coreCount: 40 deviceMemorySize: 14.61GiB deviceMemoryBandwidth: 298.08GiB/s\n",
      "2023-02-10 20:13:36.738852: I tensorflow/core/common_runtime/gpu/gpu_device.cc:1561] Found device 1 with properties: \n",
      "pciBusID: 0000:37:00.0 name: Tesla T4 computeCapability: 7.5\n",
      "coreClock: 1.59GHz coreCount: 40 deviceMemorySize: 14.61GiB deviceMemoryBandwidth: 298.08GiB/s\n",
      "2023-02-10 20:13:36.740394: I tensorflow/core/common_runtime/gpu/gpu_device.cc:1561] Found device 2 with properties: \n",
      "pciBusID: 0000:86:00.0 name: Tesla T4 computeCapability: 7.5\n",
      "coreClock: 1.59GHz coreCount: 40 deviceMemorySize: 14.61GiB deviceMemoryBandwidth: 298.08GiB/s\n",
      "2023-02-10 20:13:36.740465: I tensorflow/stream_executor/platform/default/dso_loader.cc:44] Successfully opened dynamic library libcudart.so.10.1\n",
      "2023-02-10 20:13:36.740481: I tensorflow/stream_executor/platform/default/dso_loader.cc:44] Successfully opened dynamic library libcublas.so.10\n",
      "2023-02-10 20:13:36.740492: I tensorflow/stream_executor/platform/default/dso_loader.cc:44] Successfully opened dynamic library libcufft.so.10\n",
      "2023-02-10 20:13:36.740502: I tensorflow/stream_executor/platform/default/dso_loader.cc:44] Successfully opened dynamic library libcurand.so.10\n",
      "2023-02-10 20:13:36.740513: I tensorflow/stream_executor/platform/default/dso_loader.cc:44] Successfully opened dynamic library libcusolver.so.10\n",
      "2023-02-10 20:13:36.740523: I tensorflow/stream_executor/platform/default/dso_loader.cc:44] Successfully opened dynamic library libcusparse.so.10\n",
      "2023-02-10 20:13:36.740535: I tensorflow/stream_executor/platform/default/dso_loader.cc:44] Successfully opened dynamic library libcudnn.so.7\n",
      "2023-02-10 20:13:36.749397: I tensorflow/core/common_runtime/gpu/gpu_device.cc:1703] Adding visible gpu devices: 0, 1, 2\n",
      "2023-02-10 20:13:36.749480: I tensorflow/stream_executor/platform/default/dso_loader.cc:44] Successfully opened dynamic library libcudart.so.10.1\n",
      "2023-02-10 20:13:36.754660: I tensorflow/core/common_runtime/gpu/gpu_device.cc:1102] Device interconnect StreamExecutor with strength 1 edge matrix:\n",
      "2023-02-10 20:13:36.754680: I tensorflow/core/common_runtime/gpu/gpu_device.cc:1108]      0 1 2 \n",
      "2023-02-10 20:13:36.754686: I tensorflow/core/common_runtime/gpu/gpu_device.cc:1121] 0:   N Y Y \n",
      "2023-02-10 20:13:36.754689: I tensorflow/core/common_runtime/gpu/gpu_device.cc:1121] 1:   Y N Y \n",
      "2023-02-10 20:13:36.754693: I tensorflow/core/common_runtime/gpu/gpu_device.cc:1121] 2:   Y Y N \n",
      "2023-02-10 20:13:36.760779: I tensorflow/core/common_runtime/gpu/gpu_device.cc:1247] Created TensorFlow device (/job:localhost/replica:0/task:0/device:GPU:0 with 9216 MB memory) -> physical GPU (device: 0, name: Tesla T4, pci bus id: 0000:12:00.0, compute capability: 7.5)\n",
      "2023-02-10 20:13:36.762876: I tensorflow/core/common_runtime/gpu/gpu_device.cc:1247] Created TensorFlow device (/job:localhost/replica:0/task:0/device:GPU:1 with 9216 MB memory) -> physical GPU (device: 1, name: Tesla T4, pci bus id: 0000:37:00.0, compute capability: 7.5)\n",
      "2023-02-10 20:13:36.764866: I tensorflow/core/common_runtime/gpu/gpu_device.cc:1247] Created TensorFlow device (/job:localhost/replica:0/task:0/device:GPU:2 with 9216 MB memory) -> physical GPU (device: 2, name: Tesla T4, pci bus id: 0000:86:00.0, compute capability: 7.5)\n"
     ]
    }
   ],
   "source": [
    "os.environ['CUDA_VISIBLE_DEVICES']=args.gpu\n",
    "if args.model == 'fedweit':\n",
    "    from models.fedweit.server import Server\n",
    "    server = Server(args)\n"
   ]
  },
  {
   "cell_type": "code",
   "execution_count": null,
   "metadata": {},
   "outputs": [],
   "source": [
    "# server.run()\n",
    "# federated server 모듈의 run()함수 수행"
   ]
  },
  {
   "cell_type": "code",
   "execution_count": 7,
   "metadata": {},
   "outputs": [
    {
     "name": "stdout",
     "output_type": "stream",
     "text": [
      "layer_id :  0\n",
      "shapes :  (5, 5, 3, 20)\n",
      "num_client :  [3]\n",
      "[ 5  5  3 20  3]\n",
      "#############\n",
      "layer_id :  1\n",
      "shapes :  (5, 5, 20, 50)\n",
      "num_client :  [3]\n",
      "[ 5  5 20 50  3]\n",
      "#############\n",
      "layer_id :  2\n",
      "shapes :  (3200, 800)\n",
      "num_client :  [3]\n",
      "[3200  800    3]\n",
      "#############\n",
      "layer_id :  3\n",
      "shapes :  (800, 500)\n",
      "num_client :  [3]\n",
      "[800 500   3]\n",
      "#############\n"
     ]
    }
   ],
   "source": [
    "for lid, shape in enumerate(server.nets.shapes):\n",
    "    shape = np.concatenate([server.nets.shapes[lid],[int(round(server.args.num_clients*server.args.frac_clients))]], axis=0)\n",
    "    print('layer_id : ',lid)\n",
    "    print('shapes : ',server.nets.shapes[lid])\n",
    "    print('num_client : ',[int(round(server.args.num_clients*server.args.frac_clients))])\n",
    "    print(shape)\n",
    "    print('#############')\n",
    "    "
   ]
  },
  {
   "cell_type": "code",
   "execution_count": 14,
   "metadata": {},
   "outputs": [
    {
     "data": {
      "text/plain": [
       "dict"
      ]
     },
     "execution_count": 14,
     "metadata": {},
     "output_type": "execute_result"
    }
   ],
   "source": [
    "type(server.nets.decomposed_variables['from_kb'])"
   ]
  },
  {
   "cell_type": "code",
   "execution_count": 19,
   "metadata": {},
   "outputs": [],
   "source": [
    "state = np_load(os.path.join('/home/proj01/FCL/output/states/20230127-1258-fedweit-non_iid_50/', '{}_net.npy'.format(0))).item()"
   ]
  },
  {
   "cell_type": "code",
   "execution_count": 26,
   "metadata": {},
   "outputs": [
    {
     "data": {
      "text/plain": [
       "dict_keys(['client_id', 'decomposed_weights', 'heads_weights'])"
      ]
     },
     "execution_count": 26,
     "metadata": {},
     "output_type": "execute_result"
    }
   ],
   "source": [
    "state.keys()"
   ]
  },
  {
   "cell_type": "code",
   "execution_count": 36,
   "metadata": {},
   "outputs": [
    {
     "name": "stdout",
     "output_type": "stream",
     "text": [
      "client_id\n",
      "decomposed_weights\n",
      "------------\n",
      "shared\n",
      "adaptive\n",
      "mask\n",
      "bias\n",
      "from_kb\n",
      "atten\n",
      "------------\n",
      "heads_weights\n"
     ]
    }
   ],
   "source": [
    "for k,v in state.items():\n",
    "    print(k)\n",
    "    if type(v) == dict:\n",
    "        print('------------')\n",
    "        for ki,vi in v.items():\n",
    "            print(ki)\n",
    "        print('------------')\n",
    "    else:\n",
    "        continue\n",
    "        print(v)"
   ]
  },
  {
   "cell_type": "code",
   "execution_count": 82,
   "metadata": {},
   "outputs": [
    {
     "data": {
      "text/plain": [
       "(3,)"
      ]
     },
     "execution_count": 82,
     "metadata": {},
     "output_type": "execute_result"
    }
   ],
   "source": [
    "# shared : 4,(5,5,3,20)\n",
    "# adaptive : task수만큼 10, 4,(5,5,3,20)\n",
    "# mask : task수만큼 10, 4,20\n",
    "# bias : task수만큼 10, 4,20\n",
    "# from_kb : task수만큼 10, 4,(5,5,3,20,3) \n",
    "# atten : task수만큼 10, 4, 3\n",
    "#여기서 3은 아마 클라이언트 수를 뜻함 4는 모델의 layer 수\n",
    "state['decomposed_weights']['atten'][0][0].shape"
   ]
  },
  {
   "cell_type": "code",
   "execution_count": 13,
   "metadata": {},
   "outputs": [
    {
     "data": {
      "text/plain": [
       "'mask'"
      ]
     },
     "execution_count": 13,
     "metadata": {},
     "output_type": "execute_result"
    }
   ],
   "source": [
    "for lid, shape in enumerate(parse.nets.shapes):\n",
    "    shape = np.concatenate([self.nets.shapes[lid],[int(round(parse.args.num_clients*parse.args.))]])"
   ]
  },
  {
   "cell_type": "code",
   "execution_count": null,
   "metadata": {},
   "outputs": [],
   "source": []
  }
 ],
 "metadata": {
  "kernelspec": {
   "display_name": "fw",
   "language": "python",
   "name": "python3"
  },
  "language_info": {
   "codemirror_mode": {
    "name": "ipython",
    "version": 3
   },
   "file_extension": ".py",
   "mimetype": "text/x-python",
   "name": "python",
   "nbconvert_exporter": "python",
   "pygments_lexer": "ipython3",
   "version": "3.8.16"
  },
  "orig_nbformat": 4,
  "vscode": {
   "interpreter": {
    "hash": "c376df81214ae476ffb130b9de1c3031302e86c50c49eddb48456331836c724a"
   }
  }
 },
 "nbformat": 4,
 "nbformat_minor": 2
}
